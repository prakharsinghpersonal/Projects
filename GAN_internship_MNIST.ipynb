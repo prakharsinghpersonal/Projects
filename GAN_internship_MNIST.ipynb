{
  "nbformat": 4,
  "nbformat_minor": 0,
  "metadata": {
    "colab": {
      "name": "GAN_internship_MNIST.ipynb",
      "provenance": [],
      "collapsed_sections": [],
      "include_colab_link": true
    },
    "kernelspec": {
      "name": "python3",
      "display_name": "Python 3"
    },
    "accelerator": "GPU",
    "widgets": {
      "application/vnd.jupyter.widget-state+json": {
        "94ed17e2c6ff43b18f111b13b9709285": {
          "model_module": "@jupyter-widgets/controls",
          "model_name": "HBoxModel",
          "state": {
            "_view_name": "HBoxView",
            "_dom_classes": [],
            "_model_name": "HBoxModel",
            "_view_module": "@jupyter-widgets/controls",
            "_model_module_version": "1.5.0",
            "_view_count": null,
            "_view_module_version": "1.5.0",
            "box_style": "",
            "layout": "IPY_MODEL_ab08539d3ade4ef3a872e3a4c1b0b49e",
            "_model_module": "@jupyter-widgets/controls",
            "children": [
              "IPY_MODEL_7e22a91ed76e461ea864722505109eab",
              "IPY_MODEL_76fe60bfb18a4d8ab9b41a47aea449aa"
            ]
          }
        },
        "ab08539d3ade4ef3a872e3a4c1b0b49e": {
          "model_module": "@jupyter-widgets/base",
          "model_name": "LayoutModel",
          "state": {
            "_view_name": "LayoutView",
            "grid_template_rows": null,
            "right": null,
            "justify_content": null,
            "_view_module": "@jupyter-widgets/base",
            "overflow": null,
            "_model_module_version": "1.2.0",
            "_view_count": null,
            "flex_flow": null,
            "width": null,
            "min_width": null,
            "border": null,
            "align_items": null,
            "bottom": null,
            "_model_module": "@jupyter-widgets/base",
            "top": null,
            "grid_column": null,
            "overflow_y": null,
            "overflow_x": null,
            "grid_auto_flow": null,
            "grid_area": null,
            "grid_template_columns": null,
            "flex": null,
            "_model_name": "LayoutModel",
            "justify_items": null,
            "grid_row": null,
            "max_height": null,
            "align_content": null,
            "visibility": null,
            "align_self": null,
            "height": null,
            "min_height": null,
            "padding": null,
            "grid_auto_rows": null,
            "grid_gap": null,
            "max_width": null,
            "order": null,
            "_view_module_version": "1.2.0",
            "grid_template_areas": null,
            "object_position": null,
            "object_fit": null,
            "grid_auto_columns": null,
            "margin": null,
            "display": null,
            "left": null
          }
        },
        "7e22a91ed76e461ea864722505109eab": {
          "model_module": "@jupyter-widgets/controls",
          "model_name": "FloatProgressModel",
          "state": {
            "_view_name": "ProgressView",
            "style": "IPY_MODEL_beb5d9aab9bf4170a357d96ceb556b9b",
            "_dom_classes": [],
            "description": "",
            "_model_name": "FloatProgressModel",
            "bar_style": "info",
            "max": 1,
            "_view_module": "@jupyter-widgets/controls",
            "_model_module_version": "1.5.0",
            "value": 1,
            "_view_count": null,
            "_view_module_version": "1.5.0",
            "orientation": "horizontal",
            "min": 0,
            "description_tooltip": null,
            "_model_module": "@jupyter-widgets/controls",
            "layout": "IPY_MODEL_4ceef338b8124a99b40eda7df1ce167c"
          }
        },
        "76fe60bfb18a4d8ab9b41a47aea449aa": {
          "model_module": "@jupyter-widgets/controls",
          "model_name": "HTMLModel",
          "state": {
            "_view_name": "HTMLView",
            "style": "IPY_MODEL_d2f9e46c036342a6924fcd7a29ea1671",
            "_dom_classes": [],
            "description": "",
            "_model_name": "HTMLModel",
            "placeholder": "​",
            "_view_module": "@jupyter-widgets/controls",
            "_model_module_version": "1.5.0",
            "value": " 9920512/? [00:20&lt;00:00, 1633909.85it/s]",
            "_view_count": null,
            "_view_module_version": "1.5.0",
            "description_tooltip": null,
            "_model_module": "@jupyter-widgets/controls",
            "layout": "IPY_MODEL_f887f2ab3f4a49d09b157d5be2a4434e"
          }
        },
        "beb5d9aab9bf4170a357d96ceb556b9b": {
          "model_module": "@jupyter-widgets/controls",
          "model_name": "ProgressStyleModel",
          "state": {
            "_view_name": "StyleView",
            "_model_name": "ProgressStyleModel",
            "description_width": "initial",
            "_view_module": "@jupyter-widgets/base",
            "_model_module_version": "1.5.0",
            "_view_count": null,
            "_view_module_version": "1.2.0",
            "bar_color": null,
            "_model_module": "@jupyter-widgets/controls"
          }
        },
        "4ceef338b8124a99b40eda7df1ce167c": {
          "model_module": "@jupyter-widgets/base",
          "model_name": "LayoutModel",
          "state": {
            "_view_name": "LayoutView",
            "grid_template_rows": null,
            "right": null,
            "justify_content": null,
            "_view_module": "@jupyter-widgets/base",
            "overflow": null,
            "_model_module_version": "1.2.0",
            "_view_count": null,
            "flex_flow": null,
            "width": null,
            "min_width": null,
            "border": null,
            "align_items": null,
            "bottom": null,
            "_model_module": "@jupyter-widgets/base",
            "top": null,
            "grid_column": null,
            "overflow_y": null,
            "overflow_x": null,
            "grid_auto_flow": null,
            "grid_area": null,
            "grid_template_columns": null,
            "flex": null,
            "_model_name": "LayoutModel",
            "justify_items": null,
            "grid_row": null,
            "max_height": null,
            "align_content": null,
            "visibility": null,
            "align_self": null,
            "height": null,
            "min_height": null,
            "padding": null,
            "grid_auto_rows": null,
            "grid_gap": null,
            "max_width": null,
            "order": null,
            "_view_module_version": "1.2.0",
            "grid_template_areas": null,
            "object_position": null,
            "object_fit": null,
            "grid_auto_columns": null,
            "margin": null,
            "display": null,
            "left": null
          }
        },
        "d2f9e46c036342a6924fcd7a29ea1671": {
          "model_module": "@jupyter-widgets/controls",
          "model_name": "DescriptionStyleModel",
          "state": {
            "_view_name": "StyleView",
            "_model_name": "DescriptionStyleModel",
            "description_width": "",
            "_view_module": "@jupyter-widgets/base",
            "_model_module_version": "1.5.0",
            "_view_count": null,
            "_view_module_version": "1.2.0",
            "_model_module": "@jupyter-widgets/controls"
          }
        },
        "f887f2ab3f4a49d09b157d5be2a4434e": {
          "model_module": "@jupyter-widgets/base",
          "model_name": "LayoutModel",
          "state": {
            "_view_name": "LayoutView",
            "grid_template_rows": null,
            "right": null,
            "justify_content": null,
            "_view_module": "@jupyter-widgets/base",
            "overflow": null,
            "_model_module_version": "1.2.0",
            "_view_count": null,
            "flex_flow": null,
            "width": null,
            "min_width": null,
            "border": null,
            "align_items": null,
            "bottom": null,
            "_model_module": "@jupyter-widgets/base",
            "top": null,
            "grid_column": null,
            "overflow_y": null,
            "overflow_x": null,
            "grid_auto_flow": null,
            "grid_area": null,
            "grid_template_columns": null,
            "flex": null,
            "_model_name": "LayoutModel",
            "justify_items": null,
            "grid_row": null,
            "max_height": null,
            "align_content": null,
            "visibility": null,
            "align_self": null,
            "height": null,
            "min_height": null,
            "padding": null,
            "grid_auto_rows": null,
            "grid_gap": null,
            "max_width": null,
            "order": null,
            "_view_module_version": "1.2.0",
            "grid_template_areas": null,
            "object_position": null,
            "object_fit": null,
            "grid_auto_columns": null,
            "margin": null,
            "display": null,
            "left": null
          }
        },
        "dc8b2aa1f01946d19f45c59ffa0d7590": {
          "model_module": "@jupyter-widgets/controls",
          "model_name": "HBoxModel",
          "state": {
            "_view_name": "HBoxView",
            "_dom_classes": [],
            "_model_name": "HBoxModel",
            "_view_module": "@jupyter-widgets/controls",
            "_model_module_version": "1.5.0",
            "_view_count": null,
            "_view_module_version": "1.5.0",
            "box_style": "",
            "layout": "IPY_MODEL_961c32434e414f4486da7f148d2a5d93",
            "_model_module": "@jupyter-widgets/controls",
            "children": [
              "IPY_MODEL_6d54b625de094476803696a47ead2b09",
              "IPY_MODEL_5ad2286eb52e4808891cbfbb08936b83"
            ]
          }
        },
        "961c32434e414f4486da7f148d2a5d93": {
          "model_module": "@jupyter-widgets/base",
          "model_name": "LayoutModel",
          "state": {
            "_view_name": "LayoutView",
            "grid_template_rows": null,
            "right": null,
            "justify_content": null,
            "_view_module": "@jupyter-widgets/base",
            "overflow": null,
            "_model_module_version": "1.2.0",
            "_view_count": null,
            "flex_flow": null,
            "width": null,
            "min_width": null,
            "border": null,
            "align_items": null,
            "bottom": null,
            "_model_module": "@jupyter-widgets/base",
            "top": null,
            "grid_column": null,
            "overflow_y": null,
            "overflow_x": null,
            "grid_auto_flow": null,
            "grid_area": null,
            "grid_template_columns": null,
            "flex": null,
            "_model_name": "LayoutModel",
            "justify_items": null,
            "grid_row": null,
            "max_height": null,
            "align_content": null,
            "visibility": null,
            "align_self": null,
            "height": null,
            "min_height": null,
            "padding": null,
            "grid_auto_rows": null,
            "grid_gap": null,
            "max_width": null,
            "order": null,
            "_view_module_version": "1.2.0",
            "grid_template_areas": null,
            "object_position": null,
            "object_fit": null,
            "grid_auto_columns": null,
            "margin": null,
            "display": null,
            "left": null
          }
        },
        "6d54b625de094476803696a47ead2b09": {
          "model_module": "@jupyter-widgets/controls",
          "model_name": "FloatProgressModel",
          "state": {
            "_view_name": "ProgressView",
            "style": "IPY_MODEL_eb6ff36ef8d04e63add4d8c67f7458b0",
            "_dom_classes": [],
            "description": "",
            "_model_name": "FloatProgressModel",
            "bar_style": "info",
            "max": 1,
            "_view_module": "@jupyter-widgets/controls",
            "_model_module_version": "1.5.0",
            "value": 1,
            "_view_count": null,
            "_view_module_version": "1.5.0",
            "orientation": "horizontal",
            "min": 0,
            "description_tooltip": null,
            "_model_module": "@jupyter-widgets/controls",
            "layout": "IPY_MODEL_e643a90f1e3a45d29c3eedbd5347435b"
          }
        },
        "5ad2286eb52e4808891cbfbb08936b83": {
          "model_module": "@jupyter-widgets/controls",
          "model_name": "HTMLModel",
          "state": {
            "_view_name": "HTMLView",
            "style": "IPY_MODEL_2c0f3d6ce690440fbede0d30288e5706",
            "_dom_classes": [],
            "description": "",
            "_model_name": "HTMLModel",
            "placeholder": "​",
            "_view_module": "@jupyter-widgets/controls",
            "_model_module_version": "1.5.0",
            "value": " 32768/? [00:15&lt;00:00, 76551.46it/s]",
            "_view_count": null,
            "_view_module_version": "1.5.0",
            "description_tooltip": null,
            "_model_module": "@jupyter-widgets/controls",
            "layout": "IPY_MODEL_fc90366dac8d467984385c11fe7ea7c3"
          }
        },
        "eb6ff36ef8d04e63add4d8c67f7458b0": {
          "model_module": "@jupyter-widgets/controls",
          "model_name": "ProgressStyleModel",
          "state": {
            "_view_name": "StyleView",
            "_model_name": "ProgressStyleModel",
            "description_width": "initial",
            "_view_module": "@jupyter-widgets/base",
            "_model_module_version": "1.5.0",
            "_view_count": null,
            "_view_module_version": "1.2.0",
            "bar_color": null,
            "_model_module": "@jupyter-widgets/controls"
          }
        },
        "e643a90f1e3a45d29c3eedbd5347435b": {
          "model_module": "@jupyter-widgets/base",
          "model_name": "LayoutModel",
          "state": {
            "_view_name": "LayoutView",
            "grid_template_rows": null,
            "right": null,
            "justify_content": null,
            "_view_module": "@jupyter-widgets/base",
            "overflow": null,
            "_model_module_version": "1.2.0",
            "_view_count": null,
            "flex_flow": null,
            "width": null,
            "min_width": null,
            "border": null,
            "align_items": null,
            "bottom": null,
            "_model_module": "@jupyter-widgets/base",
            "top": null,
            "grid_column": null,
            "overflow_y": null,
            "overflow_x": null,
            "grid_auto_flow": null,
            "grid_area": null,
            "grid_template_columns": null,
            "flex": null,
            "_model_name": "LayoutModel",
            "justify_items": null,
            "grid_row": null,
            "max_height": null,
            "align_content": null,
            "visibility": null,
            "align_self": null,
            "height": null,
            "min_height": null,
            "padding": null,
            "grid_auto_rows": null,
            "grid_gap": null,
            "max_width": null,
            "order": null,
            "_view_module_version": "1.2.0",
            "grid_template_areas": null,
            "object_position": null,
            "object_fit": null,
            "grid_auto_columns": null,
            "margin": null,
            "display": null,
            "left": null
          }
        },
        "2c0f3d6ce690440fbede0d30288e5706": {
          "model_module": "@jupyter-widgets/controls",
          "model_name": "DescriptionStyleModel",
          "state": {
            "_view_name": "StyleView",
            "_model_name": "DescriptionStyleModel",
            "description_width": "",
            "_view_module": "@jupyter-widgets/base",
            "_model_module_version": "1.5.0",
            "_view_count": null,
            "_view_module_version": "1.2.0",
            "_model_module": "@jupyter-widgets/controls"
          }
        },
        "fc90366dac8d467984385c11fe7ea7c3": {
          "model_module": "@jupyter-widgets/base",
          "model_name": "LayoutModel",
          "state": {
            "_view_name": "LayoutView",
            "grid_template_rows": null,
            "right": null,
            "justify_content": null,
            "_view_module": "@jupyter-widgets/base",
            "overflow": null,
            "_model_module_version": "1.2.0",
            "_view_count": null,
            "flex_flow": null,
            "width": null,
            "min_width": null,
            "border": null,
            "align_items": null,
            "bottom": null,
            "_model_module": "@jupyter-widgets/base",
            "top": null,
            "grid_column": null,
            "overflow_y": null,
            "overflow_x": null,
            "grid_auto_flow": null,
            "grid_area": null,
            "grid_template_columns": null,
            "flex": null,
            "_model_name": "LayoutModel",
            "justify_items": null,
            "grid_row": null,
            "max_height": null,
            "align_content": null,
            "visibility": null,
            "align_self": null,
            "height": null,
            "min_height": null,
            "padding": null,
            "grid_auto_rows": null,
            "grid_gap": null,
            "max_width": null,
            "order": null,
            "_view_module_version": "1.2.0",
            "grid_template_areas": null,
            "object_position": null,
            "object_fit": null,
            "grid_auto_columns": null,
            "margin": null,
            "display": null,
            "left": null
          }
        },
        "6ab1c8bbf6344ba7b806d77d82758aa8": {
          "model_module": "@jupyter-widgets/controls",
          "model_name": "HBoxModel",
          "state": {
            "_view_name": "HBoxView",
            "_dom_classes": [],
            "_model_name": "HBoxModel",
            "_view_module": "@jupyter-widgets/controls",
            "_model_module_version": "1.5.0",
            "_view_count": null,
            "_view_module_version": "1.5.0",
            "box_style": "",
            "layout": "IPY_MODEL_8a5247ccfcfb45b192166040b151fd53",
            "_model_module": "@jupyter-widgets/controls",
            "children": [
              "IPY_MODEL_5abdba631eb942c4a0a72b2304a09495",
              "IPY_MODEL_d31a2e676fad4f81aa354af63d9db3a0"
            ]
          }
        },
        "8a5247ccfcfb45b192166040b151fd53": {
          "model_module": "@jupyter-widgets/base",
          "model_name": "LayoutModel",
          "state": {
            "_view_name": "LayoutView",
            "grid_template_rows": null,
            "right": null,
            "justify_content": null,
            "_view_module": "@jupyter-widgets/base",
            "overflow": null,
            "_model_module_version": "1.2.0",
            "_view_count": null,
            "flex_flow": null,
            "width": null,
            "min_width": null,
            "border": null,
            "align_items": null,
            "bottom": null,
            "_model_module": "@jupyter-widgets/base",
            "top": null,
            "grid_column": null,
            "overflow_y": null,
            "overflow_x": null,
            "grid_auto_flow": null,
            "grid_area": null,
            "grid_template_columns": null,
            "flex": null,
            "_model_name": "LayoutModel",
            "justify_items": null,
            "grid_row": null,
            "max_height": null,
            "align_content": null,
            "visibility": null,
            "align_self": null,
            "height": null,
            "min_height": null,
            "padding": null,
            "grid_auto_rows": null,
            "grid_gap": null,
            "max_width": null,
            "order": null,
            "_view_module_version": "1.2.0",
            "grid_template_areas": null,
            "object_position": null,
            "object_fit": null,
            "grid_auto_columns": null,
            "margin": null,
            "display": null,
            "left": null
          }
        },
        "5abdba631eb942c4a0a72b2304a09495": {
          "model_module": "@jupyter-widgets/controls",
          "model_name": "FloatProgressModel",
          "state": {
            "_view_name": "ProgressView",
            "style": "IPY_MODEL_a6abda8298604cdb8a15bb5144e9f3f0",
            "_dom_classes": [],
            "description": "",
            "_model_name": "FloatProgressModel",
            "bar_style": "info",
            "max": 1,
            "_view_module": "@jupyter-widgets/controls",
            "_model_module_version": "1.5.0",
            "value": 1,
            "_view_count": null,
            "_view_module_version": "1.5.0",
            "orientation": "horizontal",
            "min": 0,
            "description_tooltip": null,
            "_model_module": "@jupyter-widgets/controls",
            "layout": "IPY_MODEL_d85112ecff3d4d7e9408f5fcddc43bf1"
          }
        },
        "d31a2e676fad4f81aa354af63d9db3a0": {
          "model_module": "@jupyter-widgets/controls",
          "model_name": "HTMLModel",
          "state": {
            "_view_name": "HTMLView",
            "style": "IPY_MODEL_7a7eadbcf2e242078d96b707e0f7fc19",
            "_dom_classes": [],
            "description": "",
            "_model_name": "HTMLModel",
            "placeholder": "​",
            "_view_module": "@jupyter-widgets/controls",
            "_model_module_version": "1.5.0",
            "value": " 1654784/? [00:15&lt;00:00, 245551.00it/s]",
            "_view_count": null,
            "_view_module_version": "1.5.0",
            "description_tooltip": null,
            "_model_module": "@jupyter-widgets/controls",
            "layout": "IPY_MODEL_5a1f6d3148ac4d20883c860372e78249"
          }
        },
        "a6abda8298604cdb8a15bb5144e9f3f0": {
          "model_module": "@jupyter-widgets/controls",
          "model_name": "ProgressStyleModel",
          "state": {
            "_view_name": "StyleView",
            "_model_name": "ProgressStyleModel",
            "description_width": "initial",
            "_view_module": "@jupyter-widgets/base",
            "_model_module_version": "1.5.0",
            "_view_count": null,
            "_view_module_version": "1.2.0",
            "bar_color": null,
            "_model_module": "@jupyter-widgets/controls"
          }
        },
        "d85112ecff3d4d7e9408f5fcddc43bf1": {
          "model_module": "@jupyter-widgets/base",
          "model_name": "LayoutModel",
          "state": {
            "_view_name": "LayoutView",
            "grid_template_rows": null,
            "right": null,
            "justify_content": null,
            "_view_module": "@jupyter-widgets/base",
            "overflow": null,
            "_model_module_version": "1.2.0",
            "_view_count": null,
            "flex_flow": null,
            "width": null,
            "min_width": null,
            "border": null,
            "align_items": null,
            "bottom": null,
            "_model_module": "@jupyter-widgets/base",
            "top": null,
            "grid_column": null,
            "overflow_y": null,
            "overflow_x": null,
            "grid_auto_flow": null,
            "grid_area": null,
            "grid_template_columns": null,
            "flex": null,
            "_model_name": "LayoutModel",
            "justify_items": null,
            "grid_row": null,
            "max_height": null,
            "align_content": null,
            "visibility": null,
            "align_self": null,
            "height": null,
            "min_height": null,
            "padding": null,
            "grid_auto_rows": null,
            "grid_gap": null,
            "max_width": null,
            "order": null,
            "_view_module_version": "1.2.0",
            "grid_template_areas": null,
            "object_position": null,
            "object_fit": null,
            "grid_auto_columns": null,
            "margin": null,
            "display": null,
            "left": null
          }
        },
        "7a7eadbcf2e242078d96b707e0f7fc19": {
          "model_module": "@jupyter-widgets/controls",
          "model_name": "DescriptionStyleModel",
          "state": {
            "_view_name": "StyleView",
            "_model_name": "DescriptionStyleModel",
            "description_width": "",
            "_view_module": "@jupyter-widgets/base",
            "_model_module_version": "1.5.0",
            "_view_count": null,
            "_view_module_version": "1.2.0",
            "_model_module": "@jupyter-widgets/controls"
          }
        },
        "5a1f6d3148ac4d20883c860372e78249": {
          "model_module": "@jupyter-widgets/base",
          "model_name": "LayoutModel",
          "state": {
            "_view_name": "LayoutView",
            "grid_template_rows": null,
            "right": null,
            "justify_content": null,
            "_view_module": "@jupyter-widgets/base",
            "overflow": null,
            "_model_module_version": "1.2.0",
            "_view_count": null,
            "flex_flow": null,
            "width": null,
            "min_width": null,
            "border": null,
            "align_items": null,
            "bottom": null,
            "_model_module": "@jupyter-widgets/base",
            "top": null,
            "grid_column": null,
            "overflow_y": null,
            "overflow_x": null,
            "grid_auto_flow": null,
            "grid_area": null,
            "grid_template_columns": null,
            "flex": null,
            "_model_name": "LayoutModel",
            "justify_items": null,
            "grid_row": null,
            "max_height": null,
            "align_content": null,
            "visibility": null,
            "align_self": null,
            "height": null,
            "min_height": null,
            "padding": null,
            "grid_auto_rows": null,
            "grid_gap": null,
            "max_width": null,
            "order": null,
            "_view_module_version": "1.2.0",
            "grid_template_areas": null,
            "object_position": null,
            "object_fit": null,
            "grid_auto_columns": null,
            "margin": null,
            "display": null,
            "left": null
          }
        },
        "339b089047ff449da9643a9bf0cfbf3e": {
          "model_module": "@jupyter-widgets/controls",
          "model_name": "HBoxModel",
          "state": {
            "_view_name": "HBoxView",
            "_dom_classes": [],
            "_model_name": "HBoxModel",
            "_view_module": "@jupyter-widgets/controls",
            "_model_module_version": "1.5.0",
            "_view_count": null,
            "_view_module_version": "1.5.0",
            "box_style": "",
            "layout": "IPY_MODEL_32642f5c6f2b4c14984d01af8567bd88",
            "_model_module": "@jupyter-widgets/controls",
            "children": [
              "IPY_MODEL_4cc78a666948448aa06d764f1709a108",
              "IPY_MODEL_c5a75be5a7fe44609fc4725b6e8bf5e5"
            ]
          }
        },
        "32642f5c6f2b4c14984d01af8567bd88": {
          "model_module": "@jupyter-widgets/base",
          "model_name": "LayoutModel",
          "state": {
            "_view_name": "LayoutView",
            "grid_template_rows": null,
            "right": null,
            "justify_content": null,
            "_view_module": "@jupyter-widgets/base",
            "overflow": null,
            "_model_module_version": "1.2.0",
            "_view_count": null,
            "flex_flow": null,
            "width": null,
            "min_width": null,
            "border": null,
            "align_items": null,
            "bottom": null,
            "_model_module": "@jupyter-widgets/base",
            "top": null,
            "grid_column": null,
            "overflow_y": null,
            "overflow_x": null,
            "grid_auto_flow": null,
            "grid_area": null,
            "grid_template_columns": null,
            "flex": null,
            "_model_name": "LayoutModel",
            "justify_items": null,
            "grid_row": null,
            "max_height": null,
            "align_content": null,
            "visibility": null,
            "align_self": null,
            "height": null,
            "min_height": null,
            "padding": null,
            "grid_auto_rows": null,
            "grid_gap": null,
            "max_width": null,
            "order": null,
            "_view_module_version": "1.2.0",
            "grid_template_areas": null,
            "object_position": null,
            "object_fit": null,
            "grid_auto_columns": null,
            "margin": null,
            "display": null,
            "left": null
          }
        },
        "4cc78a666948448aa06d764f1709a108": {
          "model_module": "@jupyter-widgets/controls",
          "model_name": "FloatProgressModel",
          "state": {
            "_view_name": "ProgressView",
            "style": "IPY_MODEL_a97bd70fb0a346739d4c967442cc3b20",
            "_dom_classes": [],
            "description": "  0%",
            "_model_name": "FloatProgressModel",
            "bar_style": "info",
            "max": 1,
            "_view_module": "@jupyter-widgets/controls",
            "_model_module_version": "1.5.0",
            "value": 0,
            "_view_count": null,
            "_view_module_version": "1.5.0",
            "orientation": "horizontal",
            "min": 0,
            "description_tooltip": null,
            "_model_module": "@jupyter-widgets/controls",
            "layout": "IPY_MODEL_498813d2389d48e8ab16bf379ca2acf8"
          }
        },
        "c5a75be5a7fe44609fc4725b6e8bf5e5": {
          "model_module": "@jupyter-widgets/controls",
          "model_name": "HTMLModel",
          "state": {
            "_view_name": "HTMLView",
            "style": "IPY_MODEL_4ea5e4d2e74d455ea48f57f47ff33dcc",
            "_dom_classes": [],
            "description": "",
            "_model_name": "HTMLModel",
            "placeholder": "​",
            "_view_module": "@jupyter-widgets/controls",
            "_model_module_version": "1.5.0",
            "value": " 0/4542 [00:00&lt;?, ?it/s]",
            "_view_count": null,
            "_view_module_version": "1.5.0",
            "description_tooltip": null,
            "_model_module": "@jupyter-widgets/controls",
            "layout": "IPY_MODEL_ce0505ef7f494d1a8a79fb27cb1ab6c5"
          }
        },
        "a97bd70fb0a346739d4c967442cc3b20": {
          "model_module": "@jupyter-widgets/controls",
          "model_name": "ProgressStyleModel",
          "state": {
            "_view_name": "StyleView",
            "_model_name": "ProgressStyleModel",
            "description_width": "initial",
            "_view_module": "@jupyter-widgets/base",
            "_model_module_version": "1.5.0",
            "_view_count": null,
            "_view_module_version": "1.2.0",
            "bar_color": null,
            "_model_module": "@jupyter-widgets/controls"
          }
        },
        "498813d2389d48e8ab16bf379ca2acf8": {
          "model_module": "@jupyter-widgets/base",
          "model_name": "LayoutModel",
          "state": {
            "_view_name": "LayoutView",
            "grid_template_rows": null,
            "right": null,
            "justify_content": null,
            "_view_module": "@jupyter-widgets/base",
            "overflow": null,
            "_model_module_version": "1.2.0",
            "_view_count": null,
            "flex_flow": null,
            "width": null,
            "min_width": null,
            "border": null,
            "align_items": null,
            "bottom": null,
            "_model_module": "@jupyter-widgets/base",
            "top": null,
            "grid_column": null,
            "overflow_y": null,
            "overflow_x": null,
            "grid_auto_flow": null,
            "grid_area": null,
            "grid_template_columns": null,
            "flex": null,
            "_model_name": "LayoutModel",
            "justify_items": null,
            "grid_row": null,
            "max_height": null,
            "align_content": null,
            "visibility": null,
            "align_self": null,
            "height": null,
            "min_height": null,
            "padding": null,
            "grid_auto_rows": null,
            "grid_gap": null,
            "max_width": null,
            "order": null,
            "_view_module_version": "1.2.0",
            "grid_template_areas": null,
            "object_position": null,
            "object_fit": null,
            "grid_auto_columns": null,
            "margin": null,
            "display": null,
            "left": null
          }
        },
        "4ea5e4d2e74d455ea48f57f47ff33dcc": {
          "model_module": "@jupyter-widgets/controls",
          "model_name": "DescriptionStyleModel",
          "state": {
            "_view_name": "StyleView",
            "_model_name": "DescriptionStyleModel",
            "description_width": "",
            "_view_module": "@jupyter-widgets/base",
            "_model_module_version": "1.5.0",
            "_view_count": null,
            "_view_module_version": "1.2.0",
            "_model_module": "@jupyter-widgets/controls"
          }
        },
        "ce0505ef7f494d1a8a79fb27cb1ab6c5": {
          "model_module": "@jupyter-widgets/base",
          "model_name": "LayoutModel",
          "state": {
            "_view_name": "LayoutView",
            "grid_template_rows": null,
            "right": null,
            "justify_content": null,
            "_view_module": "@jupyter-widgets/base",
            "overflow": null,
            "_model_module_version": "1.2.0",
            "_view_count": null,
            "flex_flow": null,
            "width": null,
            "min_width": null,
            "border": null,
            "align_items": null,
            "bottom": null,
            "_model_module": "@jupyter-widgets/base",
            "top": null,
            "grid_column": null,
            "overflow_y": null,
            "overflow_x": null,
            "grid_auto_flow": null,
            "grid_area": null,
            "grid_template_columns": null,
            "flex": null,
            "_model_name": "LayoutModel",
            "justify_items": null,
            "grid_row": null,
            "max_height": null,
            "align_content": null,
            "visibility": null,
            "align_self": null,
            "height": null,
            "min_height": null,
            "padding": null,
            "grid_auto_rows": null,
            "grid_gap": null,
            "max_width": null,
            "order": null,
            "_view_module_version": "1.2.0",
            "grid_template_areas": null,
            "object_position": null,
            "object_fit": null,
            "grid_auto_columns": null,
            "margin": null,
            "display": null,
            "left": null
          }
        }
      }
    }
  },
  "cells": [
    {
      "cell_type": "markdown",
      "metadata": {
        "id": "view-in-github",
        "colab_type": "text"
      },
      "source": [
        "<a href=\"https://colab.research.google.com/github/prakharsinghpersonal/Projects/blob/main/GAN_internship_MNIST.ipynb\" target=\"_parent\"><img src=\"https://colab.research.google.com/assets/colab-badge.svg\" alt=\"Open In Colab\"/></a>"
      ]
    },
    {
      "cell_type": "code",
      "metadata": {
        "id": "lEevQibp2fzI"
      },
      "source": [
        "import numpy as np\n",
        "import torch\n",
        "import matplotlib.pyplot as plt"
      ],
      "execution_count": null,
      "outputs": []
    },
    {
      "cell_type": "code",
      "metadata": {
        "id": "_LwrInt52nsq",
        "colab": {
          "base_uri": "https://localhost:8080/",
          "height": 360,
          "referenced_widgets": [
            "94ed17e2c6ff43b18f111b13b9709285",
            "ab08539d3ade4ef3a872e3a4c1b0b49e",
            "7e22a91ed76e461ea864722505109eab",
            "76fe60bfb18a4d8ab9b41a47aea449aa",
            "beb5d9aab9bf4170a357d96ceb556b9b",
            "4ceef338b8124a99b40eda7df1ce167c",
            "d2f9e46c036342a6924fcd7a29ea1671",
            "f887f2ab3f4a49d09b157d5be2a4434e",
            "dc8b2aa1f01946d19f45c59ffa0d7590",
            "961c32434e414f4486da7f148d2a5d93",
            "6d54b625de094476803696a47ead2b09",
            "5ad2286eb52e4808891cbfbb08936b83",
            "eb6ff36ef8d04e63add4d8c67f7458b0",
            "e643a90f1e3a45d29c3eedbd5347435b",
            "2c0f3d6ce690440fbede0d30288e5706",
            "fc90366dac8d467984385c11fe7ea7c3",
            "6ab1c8bbf6344ba7b806d77d82758aa8",
            "8a5247ccfcfb45b192166040b151fd53",
            "5abdba631eb942c4a0a72b2304a09495",
            "d31a2e676fad4f81aa354af63d9db3a0",
            "a6abda8298604cdb8a15bb5144e9f3f0",
            "d85112ecff3d4d7e9408f5fcddc43bf1",
            "7a7eadbcf2e242078d96b707e0f7fc19",
            "5a1f6d3148ac4d20883c860372e78249",
            "339b089047ff449da9643a9bf0cfbf3e",
            "32642f5c6f2b4c14984d01af8567bd88",
            "4cc78a666948448aa06d764f1709a108",
            "c5a75be5a7fe44609fc4725b6e8bf5e5",
            "a97bd70fb0a346739d4c967442cc3b20",
            "498813d2389d48e8ab16bf379ca2acf8",
            "4ea5e4d2e74d455ea48f57f47ff33dcc",
            "ce0505ef7f494d1a8a79fb27cb1ab6c5"
          ]
        },
        "outputId": "012eed62-743f-4e1a-fe24-273ebe3b6c27"
      },
      "source": [
        "from torchvision import datasets\n",
        "import torchvision.transforms as transforms\n",
        "\n",
        "# number of subprocesses to use for data loading\n",
        "num_workers = 0\n",
        "# how many samples per batch to load\n",
        "batch_size = 128\n",
        "\n",
        "# convert data to torch.FloatTensor\n",
        "transform = transforms.ToTensor()\n",
        "\n",
        "# get the training datasets\n",
        "train_data = datasets.MNIST(root='data', train=True,\n",
        "                                   download=True, transform=transform)\n",
        "\n",
        "# prepare data loader\n",
        "train_loader = torch.utils.data.DataLoader(train_data, batch_size=batch_size,\n",
        "                                           num_workers=num_workers)"
      ],
      "execution_count": null,
      "outputs": [
        {
          "output_type": "stream",
          "text": [
            "Downloading http://yann.lecun.com/exdb/mnist/train-images-idx3-ubyte.gz to data/MNIST/raw/train-images-idx3-ubyte.gz\n"
          ],
          "name": "stdout"
        },
        {
          "output_type": "display_data",
          "data": {
            "application/vnd.jupyter.widget-view+json": {
              "model_id": "94ed17e2c6ff43b18f111b13b9709285",
              "version_minor": 0,
              "version_major": 2
            },
            "text/plain": [
              "HBox(children=(FloatProgress(value=1.0, bar_style='info', max=1.0), HTML(value='')))"
            ]
          },
          "metadata": {
            "tags": []
          }
        },
        {
          "output_type": "stream",
          "text": [
            "Extracting data/MNIST/raw/train-images-idx3-ubyte.gz to data/MNIST/raw\n",
            "Downloading http://yann.lecun.com/exdb/mnist/train-labels-idx1-ubyte.gz to data/MNIST/raw/train-labels-idx1-ubyte.gz\n"
          ],
          "name": "stdout"
        },
        {
          "output_type": "display_data",
          "data": {
            "application/vnd.jupyter.widget-view+json": {
              "model_id": "dc8b2aa1f01946d19f45c59ffa0d7590",
              "version_minor": 0,
              "version_major": 2
            },
            "text/plain": [
              "HBox(children=(FloatProgress(value=1.0, bar_style='info', max=1.0), HTML(value='')))"
            ]
          },
          "metadata": {
            "tags": []
          }
        },
        {
          "output_type": "stream",
          "text": [
            "Extracting data/MNIST/raw/train-labels-idx1-ubyte.gz to data/MNIST/raw\n",
            "Downloading http://yann.lecun.com/exdb/mnist/t10k-images-idx3-ubyte.gz to data/MNIST/raw/t10k-images-idx3-ubyte.gz\n"
          ],
          "name": "stdout"
        },
        {
          "output_type": "display_data",
          "data": {
            "application/vnd.jupyter.widget-view+json": {
              "model_id": "6ab1c8bbf6344ba7b806d77d82758aa8",
              "version_minor": 0,
              "version_major": 2
            },
            "text/plain": [
              "HBox(children=(FloatProgress(value=1.0, bar_style='info', max=1.0), HTML(value='')))"
            ]
          },
          "metadata": {
            "tags": []
          }
        },
        {
          "output_type": "stream",
          "text": [
            "Extracting data/MNIST/raw/t10k-images-idx3-ubyte.gz to data/MNIST/raw\n",
            "Downloading http://yann.lecun.com/exdb/mnist/t10k-labels-idx1-ubyte.gz to data/MNIST/raw/t10k-labels-idx1-ubyte.gz\n"
          ],
          "name": "stdout"
        },
        {
          "output_type": "display_data",
          "data": {
            "application/vnd.jupyter.widget-view+json": {
              "model_id": "339b089047ff449da9643a9bf0cfbf3e",
              "version_minor": 0,
              "version_major": 2
            },
            "text/plain": [
              "HBox(children=(FloatProgress(value=1.0, bar_style='info', max=1.0), HTML(value='')))"
            ]
          },
          "metadata": {
            "tags": []
          }
        },
        {
          "output_type": "stream",
          "text": [
            "Extracting data/MNIST/raw/t10k-labels-idx1-ubyte.gz to data/MNIST/raw\n",
            "Processing...\n",
            "Done!\n"
          ],
          "name": "stdout"
        },
        {
          "output_type": "stream",
          "text": [
            "/pytorch/torch/csrc/utils/tensor_numpy.cpp:141: UserWarning: The given NumPy array is not writeable, and PyTorch does not support non-writeable tensors. This means you can write to the underlying (supposedly non-writeable) NumPy array using the tensor. You may want to copy the array to protect its data or make it writeable before converting it to a tensor. This type of warning will be suppressed for the rest of this program.\n"
          ],
          "name": "stderr"
        }
      ]
    },
    {
      "cell_type": "code",
      "metadata": {
        "id": "5W8rOsmQ28Mw",
        "colab": {
          "base_uri": "https://localhost:8080/",
          "height": 1000
        },
        "outputId": "74807d22-1dfa-45ff-a25f-9e4af58981a4"
      },
      "source": [
        "# obtain one batch of training images\n",
        "dataiter = iter(train_loader)\n",
        "images, labels = dataiter.next()\n",
        "images = images.numpy()\n",
        "\n",
        "# get one image from the batch\n",
        "for i in range(0,10):\n",
        "  img = np.squeeze(images[i])\n",
        "  fig = plt.figure(figsize = (2,2)) \n",
        "  ax = fig.add_subplot(111)\n",
        "  ax.imshow(img, cmap='Greys_r',interpolation='nearest')"
      ],
      "execution_count": null,
      "outputs": [
        {
          "output_type": "display_data",
          "data": {
            "image/png": "[encoded data removed]",
            "text/plain": [
              "<Figure size 144x144 with 1 Axes>"
            ]
          },
          "metadata": {
            "tags": [],
            "needs_background": "light"
          }
        },
        {
          "output_type": "display_data",
          "data": {
            "image/png": "[encoded data removed]",
            "text/plain": [
              "<Figure size 144x144 with 1 Axes>"
            ]
          },
          "metadata": {
            "tags": [],
            "needs_background": "light"
          }
        },
        {
          "output_type": "display_data",
          "data": {
            "image/png": "[encoded data removed]",
            "text/plain": [
              "<Figure size 144x144 with 1 Axes>"
            ]
          },
          "metadata": {
            "tags": [],
            "needs_background": "light"
          }
        },
        {
          "output_type": "display_data",
          "data": {
            "image/png": "[encoded data removed]",
            "text/plain": [
              "<Figure size 144x144 with 1 Axes>"
            ]
          },
          "metadata": {
            "tags": [],
            "needs_background": "light"
          }
        },
        {
          "output_type": "display_data",
          "data": {
            "image/png": "[encoded data removed]",
            "text/plain": [
              "<Figure size 144x144 with 1 Axes>"
            ]
          },
          "metadata": {
            "tags": [],
            "needs_background": "light"
          }
        },
        {
          "output_type": "display_data",
          "data": {
            "image/png": "[encoded data removed]",
            "text/plain": [
              "<Figure size 144x144 with 1 Axes>"
            ]
          },
          "metadata": {
            "tags": [],
            "needs_background": "light"
          }
        },
        {
          "output_type": "display_data",
          "data": {
            "image/png": "[encoded data removed]",
            "text/plain": [
              "<Figure size 144x144 with 1 Axes>"
            ]
          },
          "metadata": {
            "tags": [],
            "needs_background": "light"
          }
        },
        {
          "output_type": "display_data",
          "data": {
            "image/png": "[encoded data removed]",
            "text/plain": [
              "<Figure size 144x144 with 1 Axes>"
            ]
          },
          "metadata": {
            "tags": [],
            "needs_background": "light"
          }
        },
        {
          "output_type": "display_data",
          "data": {
            "image/png": "[encoded data removed]",
            "text/plain": [
              "<Figure size 144x144 with 1 Axes>"
            ]
          },
          "metadata": {
            "tags": [],
            "needs_background": "light"
          }
        },
        {
          "output_type": "display_data",
          "data": {
            "image/png": "[encoded data removed]",
            "text/plain": [
              "<Figure size 144x144 with 1 Axes>"
            ]
          },
          "metadata": {
            "tags": [],
            "needs_background": "light"
          }
        }
      ]
    },
    {
      "cell_type": "code",
      "metadata": {
        "id": "A7YsqHqG2_xm"
      },
      "source": [
        "import torch.nn as nn\n",
        "import torch.nn.functional as F\n",
        "\n",
        "class Discriminator(nn.Module):\n",
        "\n",
        "    def __init__(self, input_size, hidden_dim, output_size):\n",
        "        super(Discriminator, self).__init__()\n",
        "        \n",
        "        # define hidden linear layers\n",
        "        self.fc1 = nn.Linear(input_size, hidden_dim*4)\n",
        "        self.fc2 = nn.Linear(hidden_dim*4, hidden_dim*2)       \n",
        "        self.fc3 = nn.Linear(hidden_dim*2, hidden_dim)\n",
        "        \n",
        "        # final fully-connected layer\n",
        "        self.fc4 = nn.Linear(hidden_dim, output_size)\n",
        "        \n",
        "        # dropout layer  to prevent overfitting by randomly setting the outgonig edge of hidden unit t0o 0\n",
        "        self.dropout = nn.Dropout(0.5)\n",
        "        \n",
        "        # for leaky relu instead of dying slope like relu it has small slope for x<0\n",
        "    def forward(self, x):\n",
        "        # flatten image\n",
        "        x = x.view(-1, 28*28)\n",
        "        # all hidden layers\n",
        "        x = F.leaky_relu(self.fc1(x), 0.2) # (input, negative_slope=0.2)\n",
        "        x = self.dropout(x)\n",
        "        x = F.leaky_relu(self.fc2(x), 0.2)\n",
        "        x = self.dropout(x)\n",
        "        x = F.leaky_relu(self.fc3(x), 0.2)\n",
        "        x = self.dropout(x)\n",
        "        # final layer\n",
        "        out = self.fc4(x)\n",
        "\n",
        "        return out"
      ],
      "execution_count": null,
      "outputs": []
    },
    {
      "cell_type": "code",
      "metadata": {
        "id": "JdXtBTEl3s8m"
      },
      "source": [
        "class Generator(nn.Module):\n",
        "\n",
        "    def __init__(self, input_size, hidden_dim, output_size):\n",
        "        super(Generator, self).__init__()\n",
        "        \n",
        "        # define hidden linear layers\n",
        "        self.fc1 = nn.Linear(input_size, hidden_dim)\n",
        "        self.fc2 = nn.Linear(hidden_dim, hidden_dim*2)\n",
        "        self.fc3 = nn.Linear(hidden_dim*2, hidden_dim*4)\n",
        "        \n",
        "        # final fully-connected layer\n",
        "        self.fc4 = nn.Linear(hidden_dim*4, output_size)\n",
        "        \n",
        "        # dropout layer \n",
        "        self.dropout = nn.Dropout(0.4)\n",
        "\n",
        "    def forward(self, x):\n",
        "        # all hidden layers\n",
        "        x = F.leaky_relu(self.fc1(x), 0.2) # (input, negative_slope=0.2)\n",
        "        x = self.dropout(x)\n",
        "        x = F.leaky_relu(self.fc2(x), 0.2)\n",
        "        x = self.dropout(x)\n",
        "        x = F.leaky_relu(self.fc3(x), 0.2)\n",
        "        x = self.dropout(x)\n",
        "        # final layer with tanh applied\n",
        "        out = F.tanh(self.fc4(x))\n",
        "\n",
        "        return out"
      ],
      "execution_count": null,
      "outputs": []
    },
    {
      "cell_type": "code",
      "metadata": {
        "id": "QLXt3sNt30Fq"
      },
      "source": [
        "# Discriminator hyperparams\n",
        "\n",
        "# Size of input image to discriminator (28*28)\n",
        "input_size = 784\n",
        "# Size of discriminator output (real or fake)\n",
        "d_output_size = 1\n",
        "# Size of last hidden layer in the discriminator\n",
        "d_hidden_size = 32\n",
        "\n",
        "# Generator hyperparams\n",
        "\n",
        "# Size of latent vector to give to generator\n",
        "z_size = 100\n",
        "# Size of discriminator output (generated image)\n",
        "g_output_size = 784\n",
        "# Size of first hidden layer in the generator\n",
        "g_hidden_size = 32"
      ],
      "execution_count": null,
      "outputs": []
    },
    {
      "cell_type": "code",
      "metadata": {
        "id": "eX08Ko3L3-ci",
        "colab": {
          "base_uri": "https://localhost:8080/",
          "height": 272
        },
        "outputId": "82e90676-530b-4279-8700-f8b1a350cb5e"
      },
      "source": [
        "\n",
        "# instantiate discriminator and generator\n",
        "D = Discriminator(input_size, d_hidden_size, d_output_size)\n",
        "G = Generator(z_size, g_hidden_size, g_output_size)\n",
        "\n",
        "# check that they are as you expect\n",
        "print(D)\n",
        "print()\n",
        "print(G)"
      ],
      "execution_count": null,
      "outputs": [
        {
          "output_type": "stream",
          "text": [
            "Discriminator(\n",
            "  (fc1): Linear(in_features=784, out_features=128, bias=True)\n",
            "  (fc2): Linear(in_features=128, out_features=64, bias=True)\n",
            "  (fc3): Linear(in_features=64, out_features=32, bias=True)\n",
            "  (fc4): Linear(in_features=32, out_features=1, bias=True)\n",
            "  (dropout): Dropout(p=0.5, inplace=False)\n",
            ")\n",
            "\n",
            "Generator(\n",
            "  (fc1): Linear(in_features=100, out_features=32, bias=True)\n",
            "  (fc2): Linear(in_features=32, out_features=64, bias=True)\n",
            "  (fc3): Linear(in_features=64, out_features=128, bias=True)\n",
            "  (fc4): Linear(in_features=128, out_features=784, bias=True)\n",
            "  (dropout): Dropout(p=0.4, inplace=False)\n",
            ")\n"
          ],
          "name": "stdout"
        }
      ]
    },
    {
      "cell_type": "code",
      "metadata": {
        "id": "_speza3b3_gJ"
      },
      "source": [
        "# Calculate losses\n",
        "def real_loss(D_out, smooth=False):\n",
        "    batch_size = D_out.size(0)\n",
        "    # label smoothing\n",
        "    if smooth:\n",
        "        # smooth, real labels = 0.9\n",
        "        labels = torch.ones(batch_size)*0.9\n",
        "    else:\n",
        "        labels = torch.ones(batch_size) # real labels = 1\n",
        "        \n",
        "    # numerically stable loss\n",
        "    criterion = nn.BCEWithLogitsLoss()\n",
        "    # calculate loss\n",
        "    loss = criterion(D_out.squeeze(), labels)\n",
        "    return loss\n",
        "\n",
        "def fake_loss(D_out):\n",
        "    batch_size = D_out.size(0)\n",
        "    labels = torch.zeros(batch_size) # fake labels = 0\n",
        "    criterion = nn.BCEWithLogitsLoss() #bianry cross entropy \n",
        "    # calculate loss\n",
        "    loss = criterion(D_out.squeeze(), labels)\n",
        "    return loss"
      ],
      "execution_count": null,
      "outputs": []
    },
    {
      "cell_type": "code",
      "metadata": {
        "id": "uJmtIbMB4Gp9"
      },
      "source": [
        "import torch.optim as optim\n",
        "\n",
        "# Optimizers\n",
        "lr = 0.001\n",
        "\n",
        "# Create optimizers for the discriminator and generator\n",
        "d_optimizer = optim.Adam(D.parameters(), lr)\n",
        "g_optimizer = optim.Adam(G.parameters(), lr)"
      ],
      "execution_count": null,
      "outputs": []
    },
    {
      "cell_type": "code",
      "metadata": {
        "id": "L_2f-IHk4Kn0",
        "colab": {
          "base_uri": "https://localhost:8080/",
          "height": 1000
        },
        "outputId": "4563b77c-bb0a-4554-de11-758f27f80204"
      },
      "source": [
        "import pickle as pkl\n",
        "\n",
        "# training hyperparams\n",
        "num_epochs = 100\n",
        "\n",
        "# keep track of loss and generated, \"fake\" samples\n",
        "samples = []\n",
        "losses = []\n",
        "\n",
        "print_every = 100\n",
        "\n",
        "# Get some fixed data for sampling. These are images that are held\n",
        "# constant throughout training, and allow us to inspect the model's performance\n",
        "sample_size=16\n",
        "fixed_z = np.random.uniform(-1, 1, size=(sample_size, z_size))\n",
        "fixed_z = torch.from_numpy(fixed_z).float()\n",
        "\n",
        "# train the network\n",
        "D.train()\n",
        "G.train()\n",
        "for epoch in range(num_epochs):\n",
        "    \n",
        "    for batch_i, (real_images, _) in enumerate(train_loader):\n",
        "                \n",
        "        batch_size = real_images.size(0)\n",
        "        \n",
        "        ## Important rescaling step ## \n",
        "        real_images = real_images*2 - 1  # rescale input images from [0,1) to [-1, 1)\n",
        "        \n",
        "        # ============================================\n",
        "        #            TRAIN THE DISCRIMINATOR\n",
        "        # ============================================\n",
        "        \n",
        "        d_optimizer.zero_grad() #Sets gradients of all model parameters to zero\n",
        "        \n",
        "        # 1. Train with real images\n",
        "\n",
        "        # Compute the discriminator losses on real images \n",
        "        # smooth the real labels\n",
        "        D_real = D(real_images)\n",
        "        d_real_loss = real_loss(D_real, smooth=True)\n",
        "        \n",
        "        # 2. Train with fake images\n",
        "        \n",
        "        # Generate fake images\n",
        "        z = np.random.uniform(-1, 1, size=(batch_size, z_size))\n",
        "        z = torch.from_numpy(z).float()\n",
        "        fake_images = G(z)\n",
        "        \n",
        "        # Compute the discriminator losses on fake images        \n",
        "        D_fake = D(fake_images)\n",
        "        d_fake_loss = fake_loss(D_fake)\n",
        "        \n",
        "        # add up loss and perform backprop\n",
        "        d_loss = d_real_loss + d_fake_loss\n",
        "        d_loss.backward() #computes the deriviative of the loss w.r.t parameters\n",
        "        d_optimizer.step() #cause the optimizer to take a step in the direction of gradient\n",
        "        \n",
        "        \n",
        "        # =========================================\n",
        "        #            TRAIN THE GENERATOR\n",
        "        # =========================================\n",
        "        g_optimizer.zero_grad()\n",
        "        \n",
        "        # 1. Train with fake images and flipped labels\n",
        "        \n",
        "        # Generate fake images\n",
        "        z = np.random.uniform(-1, 1, size=(batch_size, z_size))\n",
        "        z = torch.from_numpy(z).float()\n",
        "        fake_images = G(z)\n",
        "        \n",
        "        # Compute the discriminator losses on fake images \n",
        "        # using flipped labels!\n",
        "        D_fake = D(fake_images)\n",
        "        g_loss = real_loss(D_fake) # use real loss to flip labels\n",
        "        \n",
        "        # perform backprop\n",
        "        g_loss.backward() #computes the deriviative of the loss w.r.t parameters\n",
        "        g_optimizer.step() #cause the optimizer to take a step in the direction of gradient\n",
        "\n",
        "        # Print some loss stats\n",
        "        if batch_i % print_every == 0:\n",
        "            # print discriminator and generator loss\n",
        "            print('Epoch [{:5d}/{:5d}] | d_loss: {:6.4f} | g_loss: {:6.4f}'.format(\n",
        "                    epoch+1, num_epochs, d_loss.item(), g_loss.item()))\n",
        "\n",
        "    \n",
        "    ## AFTER EACH EPOCH##\n",
        "    # append discriminator loss and generator loss\n",
        "    losses.append((d_loss.item(), g_loss.item()))\n",
        "    \n",
        "    # generate and save sample, fake images\n",
        "    G.eval() # eval mode for generating samples\n",
        "    samples_z = G(fixed_z)\n",
        "    samples.append(samples_z)\n",
        "    G.train() # back to train mode\n",
        "\n",
        "\n",
        "# Save training generator samples\n",
        "with open('train_samples.pkl', 'wb') as f:\n",
        "    pkl.dump(samples, f) #saving the data to designated pickle file"
      ],
      "execution_count": null,
      "outputs": [
        {
          "output_type": "stream",
          "text": [
            "/usr/local/lib/python3.6/dist-packages/torch/nn/functional.py:1558: UserWarning: nn.functional.tanh is deprecated. Use torch.tanh instead.\n",
            "  warnings.warn(\"nn.functional.tanh is deprecated. Use torch.tanh instead.\")\n"
          ],
          "name": "stderr"
        },
        {
          "output_type": "stream",
          "text": [
            "Epoch [    1/  100] | d_loss: 1.3857 | g_loss: 0.6980\n",
            "Epoch [    1/  100] | d_loss: 0.4084 | g_loss: 4.0833\n",
            "Epoch [    1/  100] | d_loss: 0.5231 | g_loss: 5.2637\n",
            "Epoch [    1/  100] | d_loss: 0.6985 | g_loss: 5.3692\n",
            "Epoch [    1/  100] | d_loss: 1.1260 | g_loss: 2.7123\n",
            "Epoch [    1/  100] | d_loss: 1.1840 | g_loss: 1.9518\n",
            "Epoch [    1/  100] | d_loss: 0.9873 | g_loss: 2.4837\n",
            "Epoch [    1/  100] | d_loss: 1.1127 | g_loss: 1.2089\n",
            "Epoch [    1/  100] | d_loss: 1.1575 | g_loss: 1.8966\n",
            "Epoch [    1/  100] | d_loss: 1.0204 | g_loss: 2.5168\n",
            "Epoch [    2/  100] | d_loss: 1.0161 | g_loss: 1.8308\n",
            "Epoch [    2/  100] | d_loss: 1.0509 | g_loss: 1.3987\n",
            "Epoch [    2/  100] | d_loss: 1.0385 | g_loss: 1.1044\n",
            "Epoch [    2/  100] | d_loss: 1.0642 | g_loss: 1.1959\n",
            "Epoch [    2/  100] | d_loss: 1.1895 | g_loss: 1.3155\n",
            "Epoch [    2/  100] | d_loss: 1.1530 | g_loss: 1.5841\n",
            "Epoch [    2/  100] | d_loss: 1.2528 | g_loss: 1.5945\n",
            "Epoch [    2/  100] | d_loss: 1.0749 | g_loss: 1.1995\n",
            "Epoch [    2/  100] | d_loss: 1.1756 | g_loss: 1.0357\n",
            "Epoch [    2/  100] | d_loss: 1.0730 | g_loss: 1.2675\n",
            "Epoch [    3/  100] | d_loss: 1.0536 | g_loss: 1.4177\n",
            "Epoch [    3/  100] | d_loss: 1.1190 | g_loss: 1.4029\n",
            "Epoch [    3/  100] | d_loss: 1.0241 | g_loss: 1.6614\n",
            "Epoch [    3/  100] | d_loss: 0.9271 | g_loss: 1.6934\n",
            "Epoch [    3/  100] | d_loss: 0.9341 | g_loss: 1.5576\n",
            "Epoch [    3/  100] | d_loss: 1.0950 | g_loss: 1.3328\n",
            "Epoch [    3/  100] | d_loss: 1.1535 | g_loss: 2.0338\n",
            "Epoch [    3/  100] | d_loss: 1.2939 | g_loss: 1.7830\n",
            "Epoch [    3/  100] | d_loss: 1.2391 | g_loss: 0.8967\n",
            "Epoch [    3/  100] | d_loss: 1.2531 | g_loss: 0.8591\n",
            "Epoch [    4/  100] | d_loss: 1.2437 | g_loss: 1.0871\n",
            "Epoch [    4/  100] | d_loss: 1.3539 | g_loss: 1.5238\n",
            "Epoch [    4/  100] | d_loss: 1.2496 | g_loss: 1.0999\n",
            "Epoch [    4/  100] | d_loss: 1.1284 | g_loss: 1.3152\n",
            "Epoch [    4/  100] | d_loss: 1.2259 | g_loss: 1.0046\n",
            "Epoch [    4/  100] | d_loss: 1.3135 | g_loss: 0.8572\n",
            "Epoch [    4/  100] | d_loss: 1.2150 | g_loss: 1.0521\n",
            "Epoch [    4/  100] | d_loss: 1.4164 | g_loss: 0.8423\n",
            "Epoch [    4/  100] | d_loss: 1.2925 | g_loss: 0.8415\n",
            "Epoch [    4/  100] | d_loss: 1.2782 | g_loss: 0.9295\n",
            "Epoch [    5/  100] | d_loss: 1.3207 | g_loss: 0.9603\n",
            "Epoch [    5/  100] | d_loss: 1.2989 | g_loss: 0.8791\n",
            "Epoch [    5/  100] | d_loss: 1.4111 | g_loss: 0.9030\n",
            "Epoch [    5/  100] | d_loss: 1.3859 | g_loss: 0.8804\n",
            "Epoch [    5/  100] | d_loss: 1.2509 | g_loss: 0.9583\n",
            "Epoch [    5/  100] | d_loss: 1.3006 | g_loss: 0.9198\n",
            "Epoch [    5/  100] | d_loss: 1.3064 | g_loss: 0.9401\n",
            "Epoch [    5/  100] | d_loss: 1.3495 | g_loss: 0.9360\n",
            "Epoch [    5/  100] | d_loss: 1.3875 | g_loss: 1.0416\n",
            "Epoch [    5/  100] | d_loss: 1.4223 | g_loss: 1.0538\n",
            "Epoch [    6/  100] | d_loss: 1.3014 | g_loss: 0.9711\n",
            "Epoch [    6/  100] | d_loss: 1.3332 | g_loss: 0.9039\n",
            "Epoch [    6/  100] | d_loss: 1.3072 | g_loss: 0.8671\n",
            "Epoch [    6/  100] | d_loss: 1.2531 | g_loss: 1.0156\n",
            "Epoch [    6/  100] | d_loss: 1.3387 | g_loss: 0.8577\n",
            "Epoch [    6/  100] | d_loss: 1.2870 | g_loss: 0.7830\n",
            "Epoch [    6/  100] | d_loss: 1.2266 | g_loss: 1.1076\n",
            "Epoch [    6/  100] | d_loss: 1.3366 | g_loss: 0.9139\n",
            "Epoch [    6/  100] | d_loss: 1.3655 | g_loss: 1.1332\n",
            "Epoch [    6/  100] | d_loss: 1.3273 | g_loss: 0.8395\n",
            "Epoch [    7/  100] | d_loss: 1.2756 | g_loss: 0.9594\n",
            "Epoch [    7/  100] | d_loss: 1.3314 | g_loss: 0.9447\n",
            "Epoch [    7/  100] | d_loss: 1.3272 | g_loss: 0.8334\n",
            "Epoch [    7/  100] | d_loss: 1.3062 | g_loss: 0.8723\n",
            "Epoch [    7/  100] | d_loss: 1.2648 | g_loss: 0.8838\n",
            "Epoch [    7/  100] | d_loss: 1.4006 | g_loss: 0.7941\n",
            "Epoch [    7/  100] | d_loss: 1.3557 | g_loss: 0.7617\n",
            "Epoch [    7/  100] | d_loss: 1.3204 | g_loss: 0.9127\n",
            "Epoch [    7/  100] | d_loss: 1.3651 | g_loss: 0.8936\n",
            "Epoch [    7/  100] | d_loss: 1.3401 | g_loss: 0.9723\n",
            "Epoch [    8/  100] | d_loss: 1.2800 | g_loss: 0.9118\n",
            "Epoch [    8/  100] | d_loss: 1.1652 | g_loss: 0.9991\n",
            "Epoch [    8/  100] | d_loss: 1.3557 | g_loss: 0.8417\n",
            "Epoch [    8/  100] | d_loss: 1.3939 | g_loss: 0.8052\n",
            "Epoch [    8/  100] | d_loss: 1.2726 | g_loss: 1.1137\n",
            "Epoch [    8/  100] | d_loss: 1.2721 | g_loss: 1.3744\n",
            "Epoch [    8/  100] | d_loss: 1.1721 | g_loss: 1.3415\n",
            "Epoch [    8/  100] | d_loss: 1.3321 | g_loss: 1.0559\n",
            "Epoch [    8/  100] | d_loss: 1.3589 | g_loss: 0.8621\n",
            "Epoch [    8/  100] | d_loss: 1.3706 | g_loss: 0.8901\n",
            "Epoch [    9/  100] | d_loss: 1.3635 | g_loss: 0.8882\n",
            "Epoch [    9/  100] | d_loss: 1.3217 | g_loss: 0.9223\n",
            "Epoch [    9/  100] | d_loss: 1.3333 | g_loss: 0.9889\n",
            "Epoch [    9/  100] | d_loss: 1.3011 | g_loss: 0.9825\n",
            "Epoch [    9/  100] | d_loss: 1.2827 | g_loss: 0.8653\n",
            "Epoch [    9/  100] | d_loss: 1.3660 | g_loss: 0.9274\n",
            "Epoch [    9/  100] | d_loss: 1.2639 | g_loss: 0.9109\n",
            "Epoch [    9/  100] | d_loss: 1.2997 | g_loss: 0.8894\n",
            "Epoch [    9/  100] | d_loss: 1.3906 | g_loss: 1.0023\n",
            "Epoch [    9/  100] | d_loss: 1.3131 | g_loss: 1.0410\n",
            "Epoch [   10/  100] | d_loss: 1.3809 | g_loss: 0.8926\n",
            "Epoch [   10/  100] | d_loss: 1.3004 | g_loss: 1.0733\n",
            "Epoch [   10/  100] | d_loss: 1.4037 | g_loss: 0.9008\n",
            "Epoch [   10/  100] | d_loss: 1.2218 | g_loss: 0.9603\n",
            "Epoch [   10/  100] | d_loss: 1.1841 | g_loss: 1.1384\n",
            "Epoch [   10/  100] | d_loss: 1.3037 | g_loss: 0.8487\n",
            "Epoch [   10/  100] | d_loss: 1.4199 | g_loss: 0.8761\n",
            "Epoch [   10/  100] | d_loss: 1.3674 | g_loss: 1.0027\n",
            "Epoch [   10/  100] | d_loss: 1.2729 | g_loss: 0.9726\n",
            "Epoch [   10/  100] | d_loss: 1.2994 | g_loss: 1.1094\n",
            "Epoch [   11/  100] | d_loss: 1.2791 | g_loss: 0.9130\n",
            "Epoch [   11/  100] | d_loss: 1.2819 | g_loss: 0.9882\n",
            "Epoch [   11/  100] | d_loss: 1.2805 | g_loss: 0.8818\n",
            "Epoch [   11/  100] | d_loss: 1.2725 | g_loss: 1.2743\n",
            "Epoch [   11/  100] | d_loss: 1.3032 | g_loss: 0.8506\n",
            "Epoch [   11/  100] | d_loss: 1.3005 | g_loss: 0.9096\n",
            "Epoch [   11/  100] | d_loss: 1.2582 | g_loss: 1.0690\n",
            "Epoch [   11/  100] | d_loss: 1.2471 | g_loss: 0.9213\n",
            "Epoch [   11/  100] | d_loss: 1.3062 | g_loss: 1.0183\n",
            "Epoch [   11/  100] | d_loss: 1.3949 | g_loss: 0.9161\n",
            "Epoch [   12/  100] | d_loss: 1.2899 | g_loss: 1.1678\n",
            "Epoch [   12/  100] | d_loss: 1.2389 | g_loss: 0.9319\n",
            "Epoch [   12/  100] | d_loss: 1.3825 | g_loss: 0.8538\n",
            "Epoch [   12/  100] | d_loss: 1.3056 | g_loss: 1.0073\n",
            "Epoch [   12/  100] | d_loss: 1.2311 | g_loss: 0.9746\n",
            "Epoch [   12/  100] | d_loss: 1.3156 | g_loss: 0.9902\n",
            "Epoch [   12/  100] | d_loss: 1.2642 | g_loss: 0.9834\n",
            "Epoch [   12/  100] | d_loss: 1.2898 | g_loss: 0.9367\n",
            "Epoch [   12/  100] | d_loss: 1.3683 | g_loss: 0.8398\n",
            "Epoch [   12/  100] | d_loss: 1.2636 | g_loss: 1.0139\n",
            "Epoch [   13/  100] | d_loss: 1.3490 | g_loss: 0.8529\n",
            "Epoch [   13/  100] | d_loss: 1.3346 | g_loss: 0.9492\n",
            "Epoch [   13/  100] | d_loss: 1.3444 | g_loss: 0.8683\n",
            "Epoch [   13/  100] | d_loss: 1.2794 | g_loss: 0.9350\n",
            "Epoch [   13/  100] | d_loss: 1.3138 | g_loss: 0.8631\n",
            "Epoch [   13/  100] | d_loss: 1.3360 | g_loss: 0.7917\n",
            "Epoch [   13/  100] | d_loss: 1.3007 | g_loss: 0.8513\n",
            "Epoch [   13/  100] | d_loss: 1.3784 | g_loss: 0.8683\n",
            "Epoch [   13/  100] | d_loss: 1.3800 | g_loss: 0.8109\n",
            "Epoch [   13/  100] | d_loss: 1.3543 | g_loss: 0.8316\n",
            "Epoch [   14/  100] | d_loss: 1.3880 | g_loss: 1.0306\n",
            "Epoch [   14/  100] | d_loss: 1.3012 | g_loss: 0.9745\n",
            "Epoch [   14/  100] | d_loss: 1.3029 | g_loss: 0.9053\n",
            "Epoch [   14/  100] | d_loss: 1.2396 | g_loss: 1.0115\n",
            "Epoch [   14/  100] | d_loss: 1.4021 | g_loss: 0.9827\n",
            "Epoch [   14/  100] | d_loss: 1.2596 | g_loss: 1.1231\n",
            "Epoch [   14/  100] | d_loss: 1.3333 | g_loss: 0.8507\n",
            "Epoch [   14/  100] | d_loss: 1.3680 | g_loss: 0.8347\n",
            "Epoch [   14/  100] | d_loss: 1.3421 | g_loss: 0.8641\n",
            "Epoch [   14/  100] | d_loss: 1.4800 | g_loss: 0.8611\n",
            "Epoch [   15/  100] | d_loss: 1.2571 | g_loss: 0.8790\n",
            "Epoch [   15/  100] | d_loss: 1.2629 | g_loss: 1.1839\n",
            "Epoch [   15/  100] | d_loss: 1.3476 | g_loss: 0.8943\n",
            "Epoch [   15/  100] | d_loss: 1.2399 | g_loss: 1.0627\n",
            "Epoch [   15/  100] | d_loss: 1.3133 | g_loss: 1.0695\n",
            "Epoch [   15/  100] | d_loss: 1.3142 | g_loss: 0.9019\n",
            "Epoch [   15/  100] | d_loss: 1.3256 | g_loss: 0.9244\n",
            "Epoch [   15/  100] | d_loss: 1.4025 | g_loss: 0.9332\n",
            "Epoch [   15/  100] | d_loss: 1.3160 | g_loss: 0.8701\n",
            "Epoch [   15/  100] | d_loss: 1.3910 | g_loss: 0.8185\n",
            "Epoch [   16/  100] | d_loss: 1.3314 | g_loss: 0.7229\n",
            "Epoch [   16/  100] | d_loss: 1.3074 | g_loss: 0.8214\n",
            "Epoch [   16/  100] | d_loss: 1.3737 | g_loss: 1.0526\n",
            "Epoch [   16/  100] | d_loss: 1.3654 | g_loss: 0.8833\n",
            "Epoch [   16/  100] | d_loss: 1.3584 | g_loss: 0.9122\n",
            "Epoch [   16/  100] | d_loss: 1.4022 | g_loss: 0.8797\n",
            "Epoch [   16/  100] | d_loss: 1.2669 | g_loss: 0.8519\n",
            "Epoch [   16/  100] | d_loss: 1.3781 | g_loss: 0.9234\n",
            "Epoch [   16/  100] | d_loss: 1.2874 | g_loss: 0.8595\n",
            "Epoch [   16/  100] | d_loss: 1.3739 | g_loss: 0.7851\n",
            "Epoch [   17/  100] | d_loss: 1.3167 | g_loss: 0.8624\n",
            "Epoch [   17/  100] | d_loss: 1.2788 | g_loss: 0.8547\n",
            "Epoch [   17/  100] | d_loss: 1.2510 | g_loss: 0.9459\n",
            "Epoch [   17/  100] | d_loss: 1.3812 | g_loss: 0.9574\n",
            "Epoch [   17/  100] | d_loss: 1.3219 | g_loss: 1.0509\n",
            "Epoch [   17/  100] | d_loss: 1.3263 | g_loss: 0.8811\n",
            "Epoch [   17/  100] | d_loss: 1.3300 | g_loss: 0.9020\n",
            "Epoch [   17/  100] | d_loss: 1.4020 | g_loss: 0.7806\n",
            "Epoch [   17/  100] | d_loss: 1.3708 | g_loss: 0.8586\n",
            "Epoch [   17/  100] | d_loss: 1.3672 | g_loss: 0.9260\n",
            "Epoch [   18/  100] | d_loss: 1.2748 | g_loss: 0.8109\n",
            "Epoch [   18/  100] | d_loss: 1.3460 | g_loss: 0.9193\n",
            "Epoch [   18/  100] | d_loss: 1.2693 | g_loss: 1.0616\n",
            "Epoch [   18/  100] | d_loss: 1.2996 | g_loss: 0.8523\n",
            "Epoch [   18/  100] | d_loss: 1.2811 | g_loss: 0.8609\n",
            "Epoch [   18/  100] | d_loss: 1.3100 | g_loss: 0.8448\n",
            "Epoch [   18/  100] | d_loss: 1.4202 | g_loss: 0.9211\n",
            "Epoch [   18/  100] | d_loss: 1.3057 | g_loss: 1.0404\n",
            "Epoch [   18/  100] | d_loss: 1.2835 | g_loss: 1.2035\n",
            "Epoch [   18/  100] | d_loss: 1.2643 | g_loss: 0.9511\n",
            "Epoch [   19/  100] | d_loss: 1.3000 | g_loss: 0.9869\n",
            "Epoch [   19/  100] | d_loss: 1.2605 | g_loss: 1.0980\n",
            "Epoch [   19/  100] | d_loss: 1.3103 | g_loss: 1.0048\n",
            "Epoch [   19/  100] | d_loss: 1.3052 | g_loss: 0.9431\n",
            "Epoch [   19/  100] | d_loss: 1.3039 | g_loss: 0.9147\n",
            "Epoch [   19/  100] | d_loss: 1.2799 | g_loss: 0.9246\n",
            "Epoch [   19/  100] | d_loss: 1.3646 | g_loss: 0.9535\n",
            "Epoch [   19/  100] | d_loss: 1.3297 | g_loss: 0.9713\n",
            "Epoch [   19/  100] | d_loss: 1.2564 | g_loss: 0.8707\n",
            "Epoch [   19/  100] | d_loss: 1.3814 | g_loss: 0.8712\n",
            "Epoch [   20/  100] | d_loss: 1.3631 | g_loss: 0.8801\n",
            "Epoch [   20/  100] | d_loss: 1.2167 | g_loss: 1.0528\n",
            "Epoch [   20/  100] | d_loss: 1.4290 | g_loss: 0.9087\n",
            "Epoch [   20/  100] | d_loss: 1.3452 | g_loss: 0.8984\n",
            "Epoch [   20/  100] | d_loss: 1.3250 | g_loss: 1.0425\n",
            "Epoch [   20/  100] | d_loss: 1.3729 | g_loss: 0.8966\n",
            "Epoch [   20/  100] | d_loss: 1.3488 | g_loss: 0.9398\n",
            "Epoch [   20/  100] | d_loss: 1.3366 | g_loss: 1.0118\n",
            "Epoch [   20/  100] | d_loss: 1.2932 | g_loss: 0.9742\n",
            "Epoch [   20/  100] | d_loss: 1.3202 | g_loss: 0.8694\n",
            "Epoch [   21/  100] | d_loss: 1.3563 | g_loss: 0.8207\n",
            "Epoch [   21/  100] | d_loss: 1.3073 | g_loss: 1.0536\n",
            "Epoch [   21/  100] | d_loss: 1.3437 | g_loss: 0.8007\n",
            "Epoch [   21/  100] | d_loss: 1.3335 | g_loss: 0.9635\n",
            "Epoch [   21/  100] | d_loss: 1.2532 | g_loss: 0.9215\n",
            "Epoch [   21/  100] | d_loss: 1.3628 | g_loss: 0.8615\n",
            "Epoch [   21/  100] | d_loss: 1.3160 | g_loss: 1.1563\n",
            "Epoch [   21/  100] | d_loss: 1.3545 | g_loss: 0.8338\n",
            "Epoch [   21/  100] | d_loss: 1.3783 | g_loss: 0.8538\n",
            "Epoch [   21/  100] | d_loss: 1.1792 | g_loss: 0.9627\n",
            "Epoch [   22/  100] | d_loss: 1.3250 | g_loss: 0.8582\n",
            "Epoch [   22/  100] | d_loss: 1.2600 | g_loss: 0.9507\n",
            "Epoch [   22/  100] | d_loss: 1.3509 | g_loss: 0.8909\n",
            "Epoch [   22/  100] | d_loss: 1.3115 | g_loss: 0.9513\n",
            "Epoch [   22/  100] | d_loss: 1.3187 | g_loss: 0.8693\n",
            "Epoch [   22/  100] | d_loss: 1.3193 | g_loss: 0.8803\n",
            "Epoch [   22/  100] | d_loss: 1.3407 | g_loss: 0.9431\n",
            "Epoch [   22/  100] | d_loss: 1.3232 | g_loss: 1.1598\n",
            "Epoch [   22/  100] | d_loss: 1.3215 | g_loss: 0.9507\n",
            "Epoch [   22/  100] | d_loss: 1.3760 | g_loss: 0.8284\n",
            "Epoch [   23/  100] | d_loss: 1.4101 | g_loss: 0.8067\n",
            "Epoch [   23/  100] | d_loss: 1.3183 | g_loss: 1.0252\n",
            "Epoch [   23/  100] | d_loss: 1.3015 | g_loss: 0.9659\n",
            "Epoch [   23/  100] | d_loss: 1.3874 | g_loss: 0.9676\n",
            "Epoch [   23/  100] | d_loss: 1.2650 | g_loss: 0.8586\n",
            "Epoch [   23/  100] | d_loss: 1.2729 | g_loss: 0.9295\n",
            "Epoch [   23/  100] | d_loss: 1.3692 | g_loss: 0.8323\n",
            "Epoch [   23/  100] | d_loss: 1.3764 | g_loss: 0.9339\n",
            "Epoch [   23/  100] | d_loss: 1.2997 | g_loss: 0.9233\n",
            "Epoch [   23/  100] | d_loss: 1.3395 | g_loss: 0.8794\n",
            "Epoch [   24/  100] | d_loss: 1.3456 | g_loss: 0.8402\n",
            "Epoch [   24/  100] | d_loss: 1.2667 | g_loss: 1.0114\n",
            "Epoch [   24/  100] | d_loss: 1.2717 | g_loss: 1.0788\n",
            "Epoch [   24/  100] | d_loss: 1.3321 | g_loss: 0.9244\n",
            "Epoch [   24/  100] | d_loss: 1.3277 | g_loss: 0.9106\n",
            "Epoch [   24/  100] | d_loss: 1.2744 | g_loss: 1.1020\n",
            "Epoch [   24/  100] | d_loss: 1.3364 | g_loss: 0.7987\n",
            "Epoch [   24/  100] | d_loss: 1.3730 | g_loss: 0.8671\n",
            "Epoch [   24/  100] | d_loss: 1.3701 | g_loss: 0.8314\n",
            "Epoch [   24/  100] | d_loss: 1.3527 | g_loss: 0.8252\n",
            "Epoch [   25/  100] | d_loss: 1.3339 | g_loss: 0.8314\n",
            "Epoch [   25/  100] | d_loss: 1.3389 | g_loss: 0.8520\n",
            "Epoch [   25/  100] | d_loss: 1.4475 | g_loss: 0.8508\n",
            "Epoch [   25/  100] | d_loss: 1.5544 | g_loss: 0.9942\n",
            "Epoch [   25/  100] | d_loss: 1.3269 | g_loss: 0.9191\n",
            "Epoch [   25/  100] | d_loss: 1.3646 | g_loss: 0.8845\n",
            "Epoch [   25/  100] | d_loss: 1.2592 | g_loss: 1.1456\n",
            "Epoch [   25/  100] | d_loss: 1.3018 | g_loss: 1.0329\n",
            "Epoch [   25/  100] | d_loss: 1.3566 | g_loss: 1.1807\n",
            "Epoch [   25/  100] | d_loss: 1.3300 | g_loss: 0.9801\n",
            "Epoch [   26/  100] | d_loss: 1.3321 | g_loss: 0.9600\n",
            "Epoch [   26/  100] | d_loss: 1.3346 | g_loss: 0.9193\n",
            "Epoch [   26/  100] | d_loss: 1.2882 | g_loss: 0.9710\n",
            "Epoch [   26/  100] | d_loss: 1.3782 | g_loss: 0.8738\n",
            "Epoch [   26/  100] | d_loss: 1.3371 | g_loss: 0.8565\n",
            "Epoch [   26/  100] | d_loss: 1.3176 | g_loss: 0.8607\n",
            "Epoch [   26/  100] | d_loss: 1.3720 | g_loss: 0.9526\n",
            "Epoch [   26/  100] | d_loss: 1.3640 | g_loss: 0.8922\n",
            "Epoch [   26/  100] | d_loss: 1.3334 | g_loss: 0.8357\n",
            "Epoch [   26/  100] | d_loss: 1.3437 | g_loss: 0.9021\n",
            "Epoch [   27/  100] | d_loss: 1.3763 | g_loss: 1.1063\n",
            "Epoch [   27/  100] | d_loss: 1.3242 | g_loss: 0.8879\n",
            "Epoch [   27/  100] | d_loss: 1.3753 | g_loss: 0.8624\n",
            "Epoch [   27/  100] | d_loss: 1.4007 | g_loss: 0.9382\n",
            "Epoch [   27/  100] | d_loss: 1.3643 | g_loss: 0.9426\n",
            "Epoch [   27/  100] | d_loss: 1.3543 | g_loss: 1.0348\n",
            "Epoch [   27/  100] | d_loss: 1.3345 | g_loss: 0.9167\n",
            "Epoch [   27/  100] | d_loss: 1.3139 | g_loss: 0.7409\n",
            "Epoch [   27/  100] | d_loss: 1.3906 | g_loss: 0.8468\n",
            "Epoch [   27/  100] | d_loss: 1.3019 | g_loss: 0.9141\n",
            "Epoch [   28/  100] | d_loss: 1.3122 | g_loss: 0.8521\n",
            "Epoch [   28/  100] | d_loss: 1.3237 | g_loss: 0.8990\n",
            "Epoch [   28/  100] | d_loss: 1.3601 | g_loss: 0.8433\n"
          ],
          "name": "stdout"
        }
      ]
    },
    {
      "cell_type": "code",
      "metadata": {
        "id": "gRS8NATS4vzd"
      },
      "source": [
        "# helper function for viewing a list of passed in sample images\n",
        "def view_samples(epoch, samples):\n",
        "    fig, axes = plt.subplots(figsize=(7,7), nrows=4, ncols=4, sharey=True, sharex=True)\n",
        "    for ax, img in zip(axes.flatten(), samples[epoch]):\n",
        "        img = img.detach()\n",
        "        ax.xaxis.set_visible(False)\n",
        "        ax.yaxis.set_visible(False)\n",
        "        im = ax.imshow(img.reshape((28,28)), cmap='Greys_r')"
      ],
      "execution_count": null,
      "outputs": []
    },
    {
      "cell_type": "code",
      "metadata": {
        "id": "77Wy5PAZ7u72"
      },
      "source": [
        "# Load samples from generator, taken while training\n",
        "with open('train_samples.pkl', 'rb') as f:\n",
        "    samples = pkl.load(f)"
      ],
      "execution_count": null,
      "outputs": []
    },
    {
      "cell_type": "code",
      "metadata": {
        "id": "ssyVciTN70_-"
      },
      "source": [
        "# -1 indicates final epoch's samples (the last in the list)\n",
        "view_samples(-1, samples)"
      ],
      "execution_count": null,
      "outputs": []
    },
    {
      "cell_type": "code",
      "metadata": {
        "id": "FJTu9Ky7726T"
      },
      "source": [
        "rows = 10 # split epochs into 10, so 100/10 = every 10 epochs\n",
        "cols = 6\n",
        "fig, axes = plt.subplots(figsize=(7,12), nrows=rows, ncols=cols, sharex=True, sharey=True)\n",
        "\n",
        "for sample, ax_row in zip(samples[::int(len(samples)/rows)], axes):\n",
        "    for img, ax in zip(sample[::int(len(sample)/cols)], ax_row):\n",
        "        img = img.detach()\n",
        "        ax.imshow(img.reshape((28,28)), cmap='Greys_r',interpolation='nearest')\n",
        "        ax.xaxis.set_visible(False)\n",
        "        ax.yaxis.set_visible(False)"
      ],
      "execution_count": null,
      "outputs": []
    },
    {
      "cell_type": "code",
      "metadata": {
        "id": "CJ9Q21NMFyHC"
      },
      "source": [
        "# randomly generated, new latent vectors\n",
        "sample_size=16\n",
        "rand_z = np.random.uniform(-1, 1, size=(sample_size, z_size))\n",
        "rand_z = torch.from_numpy(rand_z).float()\n",
        "\n",
        "G.eval() # eval mode\n",
        "# generated samples\n",
        "rand_images = G(rand_z)\n",
        "\n",
        "# 0 indicates the first set of samples in the passed in list\n",
        "# and we only have one batch of samples, here\n",
        "view_samples(0, [rand_images])"
      ],
      "execution_count": null,
      "outputs": []
    },
    {
      "cell_type": "code",
      "metadata": {
        "id": "9nRiSA9oF5O4"
      },
      "source": [
        ""
      ],
      "execution_count": null,
      "outputs": []
    }
  ]
}